{
 "cells": [
  {
   "cell_type": "markdown",
   "id": "0d9eede2",
   "metadata": {},
   "source": [
    "# symbolized bad dream\n",
    "Dreams are full of symbols, I am trying to simulate the mechanism of how dream generation.  I extract some symbols from my dream diary. Then the symbol content is converted into symbol text, which is randomly combined in Python like the dream does. For this generator, the dream itself is a loop, one of the forms of my nightmares.\n",
    "\n",
    "More info: https://jumbled-marmoset-78e.notion.site/reading-and-writing-electronic-text-week1-zoecai-ff727e5cd2ce49a1bfdd05d9840a0a42"
   ]
  },
  {
   "cell_type": "code",
   "execution_count": 0,
   "id": "c9ad36ef",
   "metadata": {},
   "outputs": [],
   "source": [
    "location = ['on the battlefield', 'in the countryside', 'in the room', 'in the tavern', 'in the alley', 'in the corner', 'in a parallel world', 'in shootout game', 'in the stairwell', 'at the nuclear research base', 'in the cave', 'in the street', 'in the house', 'in the classroom', 'by the pool', 'in the backyard', 'in the bathroom', 'on the road', 'in the valley', 'on the bridge', 'in hospital', 'in ruins', 'in the village', 'in the lotus pond', 'in cement pipeline', 'in the elevator', 'in stone city', 'on the hillside', 'in the attic', 'in the garden', 'on the roof', 'in the trap', 'in the channel', 'on theatrical stage', 'at the end of the road', 'deep in the heart', 'at the hair salon', 'in the virtual world of VR', 'in the air']\n",
    "environment = ['boundless', 'dark', 'damp', 'empty', 'uninhabited', 'narrow', 'absurd', 'twisted', 'bright', 'dreamy', 'overgrown', 'icy', 'dusted', 'burnt', 'red', 'yellow' , 'flickering', 'bright', 'black', 'gold', 'abandoned', 'brightly lit', 'shattered', 'cracked', 'transparent', 'nested', 'unsafe' , 'breezy', 'spooky', 'looming', 'invisible', 'barren', 'rotting', 'crowded']\n",
    "behavior = ['stands on', 'goes upstairs in', 'hides in', 'talks to', 'hangs on the' , 'is drown in' , 'passes through the', 'becomes' , 'is radiated by', 'grows in', 'pulls away from', 'sees', 'is trapped in', 'lies on', 'climbs up', 'is dried by', 'beats', 'touches', 'revives', 'floats in', 'jumps from', 'stares at', 'kisses', 'blows up', 'asks', 'whispers with', 'mirrors', 'is locked in', 'chases']\n",
    "myBehavior = ['running', 'vanishing', 'fleeing', 'burning', 'seeking', 'hiding', 'melting', 'flying', 'crying', 'exploding', 'escaping']\n",
    "adverb = ['incessantly', 'repeatedly', 'forever', 'silently', 'alone', 'helplessly', 'slowly']\n",
    "character = ['marionette', 'patient', 'soldier', 'lover', 'friend', 'snake', 'mutant', 'stranger', 'burnt man', 'green creature', 'woman with red hair', 'witch', 'classmate', 'godfather', 'invisible man', 'robot', 'man with implanted metal parts', 'ghost', 'victim', 'kitten','queen','faceless squire']\n",
    "thing = ['light without a light source', 'drizzle', 'severed head', 'stretched navel', 'cracked tooth', 'luminous eye', 'blue face', 'train coming from far away', 'liquid', 'mirror', 'chestnut', 'leaf', 'window', 'hanging rope', 'sunbeam', 'space', 'stair', 'red dead rabbit', 'weapon', 'mashed potato flood', 'minced meat', 'blood', 'fire', 'bath towel', 'bullet', 'cup', 'brick', 'mechanical game machine', 'paint', 'metal pipe', 'telephone', 'floor', 'hospital bed']"
   ]
  },
  {
   "cell_type": "code",
   "execution_count": 1,
   "id": "4840689f",
   "metadata": {},
   "outputs": [
    {
     "name": "stdout",
     "output_type": "stream",
     "text": [
      "\u001b[1mSymbolized Bad Dream\n",
      "\u001b[0m\n",
      "14:16:50, dusted\n",
      "  As it is in cement pipeline\n",
      "    Ghost whispers with light without a light source\n",
      "      Queen whispers with mashed potato flood\n",
      "        Man with implanted metal parts blows up train coming from far away\n",
      "          I, am escaping helplessly\n",
      "        Until\n",
      "      Luminous eye climbs up man with implanted metal parts\n",
      "    Severed head kisses invisible man\n",
      "  Red dead rabbit hangs on the faceless squire\n",
      "14:16:50, nested\n"
     ]
    }
   ],
   "source": [
    "import random\n",
    "\n",
    "line = [0 for i in range(11)]\n",
    "\n",
    "hour = str(random.randint(0,23))\n",
    "# hourStart = str(hour)\n",
    "# hourEnd = str(hour + 2)\n",
    "minute = str(random.randint(0,59))\n",
    "second = str(random.randint(0,59))\n",
    "\n",
    "if len(hour) == 1:\n",
    "    hour = '0' + hour\n",
    "if len(minute) == 1:\n",
    "    minute = '0' + minute\n",
    "if len(second) == 1:\n",
    "    second = '0' + second\n",
    "\n",
    "# time\n",
    "line[0]= str(hour + ':' + minute + ':' + second) + ',' + ' ' + random.choice(environment)\n",
    "# dream content\n",
    "line[1] = '  '*1 + 'As it is'+ ' ' + random.choice(location) \n",
    "for i in range(2,5):\n",
    "    line[i] = '  '*i + random.choice(character).capitalize() + ' ' + random.choice(behavior)  + ' ' + random.choice(thing) \n",
    "line[5] = '  '*5 + 'I, am' + ' ' + random.choice(myBehavior) + ' ' + random.choice(adverb)\n",
    "line[6] = '  '*4 + 'Until'\n",
    "for j in range(7,10):\n",
    "    line[j] = '  '*(10 - j) + random.choice(thing).capitalize() + ' '  + random.choice(behavior) + ' '  + random.choice(character) \n",
    "line[10] = str(hour + ':' + minute + ':' + second) + ',' + ' ' + random.choice(environment)\n",
    "\n",
    "\n",
    "print('\\033[1mSymbolized Bad Dream\\n\\033[0m')\n",
    "poetry = \"\\n\".join(line)\n",
    "print(poetry)"
   ]
  },
  {
   "cell_type": "code",
   "execution_count": null,
   "id": "30639c9c",
   "metadata": {},
   "outputs": [],
   "source": []
  }
 ],
 "metadata": {
  "kernelspec": {
   "display_name": "Python 3 (ipykernel)",
   "language": "python",
   "name": "python3"
  },
  "language_info": {
   "codemirror_mode": {
    "name": "ipython",
    "version": 3
   },
   "file_extension": ".py",
   "mimetype": "text/x-python",
   "name": "python",
   "nbconvert_exporter": "python",
   "pygments_lexer": "ipython3",
   "version": "3.9.7"
  }
 },
 "nbformat": 4,
 "nbformat_minor": 5
}
