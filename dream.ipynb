{
 "cells": [
  {
   "cell_type": "code",
   "execution_count": 103,
   "id": "c9ad36ef",
   "metadata": {},
   "outputs": [],
   "source": [
    "location = ['on the battlefield', 'in the countryside', 'in the room', 'in the tavern', 'in the alley', 'in the corner', 'in a parallel world', 'shootout game', 'in the stairwell', 'at the nuclear research base', 'in the cave', 'in the street', 'in the house', 'in the classroom', 'by the pool', 'in the backyard', 'in the bathroom', 'on the road', 'in the valley', 'on the bridge', 'in hospital', 'in ruins', 'in the village', 'in the lotus pond', 'in cement pipeline', 'in the elevator', 'in stone city', 'on the hillside', 'in the attic', 'in the garden', 'on the roof', 'in the trap', 'in the channel', 'on theatrical stage', 'at the end of the road', 'deep in the heart', 'at the hair salon', 'in the virtual world of VR', 'in the air']\n",
    "environment = ['boundless', 'dark', 'damp', 'empty', 'uninhabited', 'narrow', 'absurd', 'twisted', 'bright', 'dreamy', 'overgrown', 'icy', 'dusted', 'burnt', 'red', 'yellow' , 'flickering', 'bright', 'black', 'gold', 'abandoned', 'brightly lit', 'shattered', 'cracked', 'transparent', 'nested', 'unsafe' , 'breezy', 'spooky', 'looming', 'invisible', 'barren', 'rotting', 'crowded']\n",
    "behavior = ['stands on', 'goes upstairs in', 'hides in', 'talks to', 'hangs on the' , 'is drown in' , 'passes through the', 'becomes' , 'is radiated by', 'grows in', 'pulls away from', 'sees', 'is trapped in', 'lies on', 'climbs up', 'is dried by', 'beats', 'touches', 'revives', 'floats in', 'jumps from', 'stares at', 'kisses', 'blows up', 'asks', 'whispers with', 'mirrors', 'is locked in', 'chases']\n",
    "myBehavior = ['running', 'vanishing', 'fleeing', 'burning', 'seeking', 'hiding', 'melting', 'flying', 'crying', 'exploding', 'escaping']\n",
    "adverb = ['incessantly', 'repeatedly', 'forever', 'silently', 'alone', 'helplessly', 'slowly']\n",
    "character = ['marionette', 'patient', 'soldier', 'lover', 'friend', 'snake', 'mutant', 'stranger', 'burnt man', 'green creature', 'woman with red hair', 'witch', 'classmate', 'godfather', 'invisible man', 'robot', 'man with implanted metal parts', 'ghost', 'victim', 'kitten','queen','faceless squire']\n",
    "thing = ['light', 'rain', 'head', 'navel', 'tooth', 'eye', 'face', 'train', 'liquid', 'mirror', 'chestnut', 'leaf', 'window', 'cable', 'sunbeam', 'space', 'stair', 'red dead rabbit', 'weapon', 'mashed potato flood', 'minced meat', 'blood', 'fire', 'bath towel', 'bullet', 'cup', 'brick', 'mechanical game machine', 'paint', 'metal pipe', 'telephone', 'floor', 'hospital bed']"
   ]
  },
  {
   "cell_type": "code",
   "execution_count": 112,
   "id": "4840689f",
   "metadata": {},
   "outputs": [
    {
     "name": "stdout",
     "output_type": "stream",
     "text": [
      "02:22:05, invisible\n",
      "As it is in the backyard\n",
      "Mutant blows up leaf\n",
      "Snake stands on head\n",
      "Godfather whispers with cup\n",
      "I, am melting repeatedly\n",
      "Until\n",
      "Eye jumps from green creature\n",
      "Face lies on lover\n",
      "Blood stares at stranger\n",
      "02:22:05, barren\n"
     ]
    }
   ],
   "source": [
    "import random\n",
    "\n",
    "line = [0 for i in range(11)]\n",
    "lineReturn = \"/n\"\n",
    "\n",
    "hour = str(random.randint(0,23))\n",
    "# hourStart = str(hour)\n",
    "# hourEnd = str(hour + 2)\n",
    "minute = str(random.randint(0,59))\n",
    "second = str(random.randint(0,59))\n",
    "\n",
    "if len(hour) == 1:\n",
    "    hour = '0' + hour\n",
    "if len(minute) == 1:\n",
    "    minute = '0' + minute\n",
    "if len(second) == 1:\n",
    "    second = '0' + second\n",
    "\n",
    "# time\n",
    "line[0]= str(hour + ':' + minute + ':' + second) + ',' + ' ' + random.choice(environment)\n",
    "# dream content\n",
    "line[1] = 'As it is'+ ' ' + random.choice(location) \n",
    "for i in range(2,5):\n",
    "    line[i] = random.choice(character).capitalize() + ' ' + random.choice(behavior)  + ' ' + random.choice(thing) \n",
    "line[5] = 'I, am' + ' ' + random.choice(myBehavior) + ' ' + random.choice(adverb)\n",
    "line[6] = 'Until'\n",
    "for j in range(7,10):\n",
    "    line[j] = random.choice(thing).capitalize() + ' '  + random.choice(behavior) + ' '  + random.choice(character) \n",
    "line[10] = str(hour + ':' + minute + ':' + second) + ',' + ' ' + random.choice(environment)\n",
    "\n",
    "# print(line)\n",
    "\n",
    "poetry = \"\\n\".join(line)\n",
    "print(poetry)"
   ]
  }
 ],
 "metadata": {
  "kernelspec": {
   "display_name": "Python 3 (ipykernel)",
   "language": "python",
   "name": "python3"
  },
  "language_info": {
   "codemirror_mode": {
    "name": "ipython",
    "version": 3
   },
   "file_extension": ".py",
   "mimetype": "text/x-python",
   "name": "python",
   "nbconvert_exporter": "python",
   "pygments_lexer": "ipython3",
   "version": "3.9.7"
  }
 },
 "nbformat": 4,
 "nbformat_minor": 5
}
